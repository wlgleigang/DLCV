{
 "cells": [
  {
   "cell_type": "markdown",
   "metadata": {},
   "source": [
    "<div style = \"font-family:Georgia;\n",
    "              font-size:2.5vw;\n",
    "              color:lightblue;\n",
    "              font-style:bold;\n",
    "              text-align:center;\n",
    "              background:url('./iti/Title Background.gif') no-repeat center;\n",
    "              background-size:cover)\">\n",
    "              \n",
    "     <br><br>\n",
    "     You Only Look Once (YOLO)\n",
    "     <br><br><br>\n",
    "     \n",
    "</div>\n",
    "\n",
    "<h1 style = \"text-align:left\">Introduction</h1>\n",
    "\n",
    "As you learned in the previous lessons, YOLO is a state-of-the-art, real-time object detection algorithm. In this notebook, we will apply the YOLO algorithm to detect objects in images. We have provided a series of images that you can test the YOLO algorithm on. Below is a list of the available images that you can load:\n",
    "\n",
    "* cat.jpg\n",
    "* city_scene.jpg\n",
    "* dog.jpg\n",
    "* dog2.jpg\n",
    "* eagle.jpg\n",
    "* food.jpg\n",
    "* giraffe.jpg\n",
    "* horses.jpg\n",
    "* motorbike.jpg\n",
    "* person.jpg\n",
    "* surf.jpg\n",
    "* wine.jpg\n",
    "\n",
    "These images are located in the`./images/`folder. We encourage you to test the YOLO algorithm on your own images as well. Have fun!"
   ]
  },
  {
   "cell_type": "markdown",
   "metadata": {},
   "source": [
    "# Importing Resources\n",
    "\n",
    "We will start by loading the required packages into Python. We will be using *OpenCV* to load our images, *matplotlib* to plot them, a`utils` module that contains some helper functions, and a modified version of *Darknet*. YOLO uses *Darknet*, an open source, deep neural network framework written by the creators of YOLO. The version of *Darknet* used in this notebook has been modified to work in PyTorch 0.4 and has been simplified because we won't be doing any training. Instead, we will be using a set of pre-trained weights that were trained on the Common Objects in Context (COCO) database. For more information on *Darknet*, please visit <a href=\"https://pjreddie.com/darknet/\">Darknet</a>."
   ]
  },
  {
   "cell_type": "code",
   "execution_count": 1,
   "metadata": {},
   "outputs": [],
   "source": [
    "import cv2\n",
    "import matplotlib.pyplot as plt\n",
    "\n",
    "from utils import *\n",
    "from darknet import Darknet"
   ]
  },
  {
   "cell_type": "markdown",
   "metadata": {},
   "source": [
    "# Setting Up The Neural Network\n",
    "\n",
    "We will be using the latest version of YOLO, known as YOLOv3. We have already downloaded the `yolov3.cfg` file that contains the network architecture used by YOLOv3 and placed it in the `/cfg/` folder. Similarly, we have placed the `yolov3.weights` file that contains the pre-trained weights in the `/weights/` directory. Finally, the `/data/` directory, contains the `coco.names` file that has the list of the 80 object classes that the weights were trained to detect.\n",
    "\n",
    "In the code below, we start by specifying the location of the files that contain the neural network architecture, the pre-trained weights, and the object classes.  We then use *Darknet* to setup the neural network using the network architecture specified in the `cfg_file`. We then use the`.load_weights()` method to load our set of pre-trained weights into the model. Finally, we use the `load_class_names()` function, from the `utils` module, to load the 80 object classes."
   ]
  },
  {
   "cell_type": "code",
   "execution_count": 3,
   "metadata": {},
   "outputs": [
    {
     "name": "stdout",
     "output_type": "stream",
     "text": [
      "\nLoading weights. Please Wait...2.78% Complete"
     ]
    },
    {
     "name": "stdout",
     "output_type": "stream",
     "text": [
      "\r"
     ]
    },
    {
     "name": "stdout",
     "output_type": "stream",
     "text": [
      "Loading weights. Please Wait...3.70% Complete\r"
     ]
    },
    {
     "name": "stdout",
     "output_type": "stream",
     "text": [
      "Loading weights. Please Wait...4.63% Complete\r"
     ]
    },
    {
     "name": "stdout",
     "output_type": "stream",
     "text": [
      "Loading weights. Please Wait...5.56% Complete\r"
     ]
    },
    {
     "name": "stdout",
     "output_type": "stream",
     "text": [
      "Loading weights. Please Wait...6.48% Complete\r"
     ]
    },
    {
     "name": "stdout",
     "output_type": "stream",
     "text": [
      "Loading weights. Please Wait...7.41% Complete\r"
     ]
    },
    {
     "name": "stdout",
     "output_type": "stream",
     "text": [
      "Loading weights. Please Wait...8.33% Complete\r"
     ]
    },
    {
     "name": "stdout",
     "output_type": "stream",
     "text": [
      "Loading weights. Please Wait...9.26% Complete\r"
     ]
    },
    {
     "name": "stdout",
     "output_type": "stream",
     "text": [
      "Loading weights. Please Wait...10.19% Complete\r"
     ]
    },
    {
     "name": "stdout",
     "output_type": "stream",
     "text": [
      "Loading weights. Please Wait...11.11% Complete\r"
     ]
    },
    {
     "name": "stdout",
     "output_type": "stream",
     "text": [
      "Loading weights. Please Wait...12.04% Complete\r"
     ]
    },
    {
     "name": "stdout",
     "output_type": "stream",
     "text": [
      "Loading weights. Please Wait...12.96% Complete\r"
     ]
    },
    {
     "name": "stdout",
     "output_type": "stream",
     "text": [
      "Loading weights. Please Wait...13.89% Complete\r"
     ]
    },
    {
     "name": "stdout",
     "output_type": "stream",
     "text": [
      "Loading weights. Please Wait...14.81% Complete\r"
     ]
    },
    {
     "name": "stdout",
     "output_type": "stream",
     "text": [
      "Loading weights. Please Wait...15.74% Complete\r"
     ]
    },
    {
     "name": "stdout",
     "output_type": "stream",
     "text": [
      "Loading weights. Please Wait...16.67% Complete\r"
     ]
    },
    {
     "name": "stdout",
     "output_type": "stream",
     "text": [
      "Loading weights. Please Wait...17.59% Complete\r"
     ]
    },
    {
     "name": "stdout",
     "output_type": "stream",
     "text": [
      "Loading weights. Please Wait...18.52% Complete\r"
     ]
    },
    {
     "name": "stdout",
     "output_type": "stream",
     "text": [
      "Loading weights. Please Wait...19.44% Complete\r"
     ]
    },
    {
     "name": "stdout",
     "output_type": "stream",
     "text": [
      "Loading weights. Please Wait...20.37% Complete\r"
     ]
    },
    {
     "name": "stdout",
     "output_type": "stream",
     "text": [
      "Loading weights. Please Wait...21.30% Complete\r"
     ]
    },
    {
     "name": "stdout",
     "output_type": "stream",
     "text": [
      "Loading weights. Please Wait...22.22% Complete\r"
     ]
    },
    {
     "name": "stdout",
     "output_type": "stream",
     "text": [
      "Loading weights. Please Wait...23.15% Complete\r"
     ]
    },
    {
     "name": "stdout",
     "output_type": "stream",
     "text": [
      "Loading weights. Please Wait...24.07% Complete\r"
     ]
    },
    {
     "name": "stdout",
     "output_type": "stream",
     "text": [
      "Loading weights. Please Wait...25.00% Complete\r"
     ]
    },
    {
     "name": "stdout",
     "output_type": "stream",
     "text": [
      "Loading weights. Please Wait...25.93% Complete\r"
     ]
    },
    {
     "name": "stdout",
     "output_type": "stream",
     "text": [
      "Loading weights. Please Wait...26.85% Complete\r"
     ]
    },
    {
     "name": "stdout",
     "output_type": "stream",
     "text": [
      "Loading weights. Please Wait...27.78% Complete\r"
     ]
    },
    {
     "name": "stdout",
     "output_type": "stream",
     "text": [
      "Loading weights. Please Wait...28.70% Complete\r"
     ]
    },
    {
     "name": "stdout",
     "output_type": "stream",
     "text": [
      "Loading weights. Please Wait...29.63% Complete\r"
     ]
    },
    {
     "name": "stdout",
     "output_type": "stream",
     "text": [
      "Loading weights. Please Wait...30.56% Complete\r"
     ]
    },
    {
     "name": "stdout",
     "output_type": "stream",
     "text": [
      "Loading weights. Please Wait...31.48% Complete\r"
     ]
    },
    {
     "name": "stdout",
     "output_type": "stream",
     "text": [
      "Loading weights. Please Wait...32.41% Complete\r"
     ]
    },
    {
     "name": "stdout",
     "output_type": "stream",
     "text": [
      "Loading weights. Please Wait...33.33% Complete\r"
     ]
    },
    {
     "name": "stdout",
     "output_type": "stream",
     "text": [
      "Loading weights. Please Wait...34.26% Complete\r"
     ]
    },
    {
     "name": "stdout",
     "output_type": "stream",
     "text": [
      "Loading weights. Please Wait...35.19% Complete\r"
     ]
    },
    {
     "name": "stdout",
     "output_type": "stream",
     "text": [
      "Loading weights. Please Wait...36.11% Complete\r"
     ]
    },
    {
     "name": "stdout",
     "output_type": "stream",
     "text": [
      "Loading weights. Please Wait...37.04% Complete\r"
     ]
    },
    {
     "name": "stdout",
     "output_type": "stream",
     "text": [
      "Loading weights. Please Wait...37.96% Complete\r"
     ]
    },
    {
     "name": "stdout",
     "output_type": "stream",
     "text": [
      "Loading weights. Please Wait...38.89% Complete\r"
     ]
    },
    {
     "name": "stdout",
     "output_type": "stream",
     "text": [
      "Loading weights. Please Wait...39.81% Complete\r"
     ]
    },
    {
     "name": "stdout",
     "output_type": "stream",
     "text": [
      "Loading weights. Please Wait...40.74% Complete\r"
     ]
    },
    {
     "name": "stdout",
     "output_type": "stream",
     "text": [
      "Loading weights. Please Wait...41.67% Complete\r"
     ]
    },
    {
     "name": "stdout",
     "output_type": "stream",
     "text": [
      "Loading weights. Please Wait...42.59% Complete\r"
     ]
    },
    {
     "name": "stdout",
     "output_type": "stream",
     "text": [
      "Loading weights. Please Wait...43.52% Complete\r"
     ]
    },
    {
     "name": "stdout",
     "output_type": "stream",
     "text": [
      "Loading weights. Please Wait...44.44% Complete\r"
     ]
    },
    {
     "name": "stdout",
     "output_type": "stream",
     "text": [
      "Loading weights. Please Wait...45.37% Complete\r"
     ]
    },
    {
     "name": "stdout",
     "output_type": "stream",
     "text": [
      "Loading weights. Please Wait...46.30% Complete"
     ]
    },
    {
     "name": "stdout",
     "output_type": "stream",
     "text": [
      "\r"
     ]
    },
    {
     "name": "stdout",
     "output_type": "stream",
     "text": [
      "Loading weights. Please Wait...47.22% Complete\r"
     ]
    },
    {
     "name": "stdout",
     "output_type": "stream",
     "text": [
      "Loading weights. Please Wait...48.15% Complete\r"
     ]
    },
    {
     "name": "stdout",
     "output_type": "stream",
     "text": [
      "Loading weights. Please Wait...49.07% Complete"
     ]
    },
    {
     "name": "stdout",
     "output_type": "stream",
     "text": [
      "\r"
     ]
    },
    {
     "name": "stdout",
     "output_type": "stream",
     "text": [
      "Loading weights. Please Wait...50.00% Complete\r"
     ]
    },
    {
     "name": "stdout",
     "output_type": "stream",
     "text": [
      "Loading weights. Please Wait...50.93% Complete\r"
     ]
    },
    {
     "name": "stdout",
     "output_type": "stream",
     "text": [
      "Loading weights. Please Wait...51.85% Complete\r"
     ]
    },
    {
     "name": "stdout",
     "output_type": "stream",
     "text": [
      "Loading weights. Please Wait...52.78% Complete\r"
     ]
    },
    {
     "name": "stdout",
     "output_type": "stream",
     "text": [
      "Loading weights. Please Wait...53.70% Complete\r"
     ]
    },
    {
     "name": "stdout",
     "output_type": "stream",
     "text": [
      "Loading weights. Please Wait...54.63% Complete\r"
     ]
    },
    {
     "name": "stdout",
     "output_type": "stream",
     "text": [
      "Loading weights. Please Wait...55.56% Complete"
     ]
    },
    {
     "name": "stdout",
     "output_type": "stream",
     "text": [
      "\r"
     ]
    },
    {
     "name": "stdout",
     "output_type": "stream",
     "text": [
      "Loading weights. Please Wait...56.48% Complete\r"
     ]
    },
    {
     "name": "stdout",
     "output_type": "stream",
     "text": [
      "Loading weights. Please Wait...57.41% Complete\r"
     ]
    },
    {
     "name": "stdout",
     "output_type": "stream",
     "text": [
      "Loading weights. Please Wait...58.33% Complete"
     ]
    },
    {
     "name": "stdout",
     "output_type": "stream",
     "text": [
      "\r"
     ]
    },
    {
     "name": "stdout",
     "output_type": "stream",
     "text": [
      "Loading weights. Please Wait...59.26% Complete\r"
     ]
    },
    {
     "name": "stdout",
     "output_type": "stream",
     "text": [
      "Loading weights. Please Wait...60.19% Complete"
     ]
    },
    {
     "name": "stdout",
     "output_type": "stream",
     "text": [
      "\r"
     ]
    },
    {
     "name": "stdout",
     "output_type": "stream",
     "text": [
      "Loading weights. Please Wait...61.11% Complete\r"
     ]
    },
    {
     "name": "stdout",
     "output_type": "stream",
     "text": [
      "Loading weights. Please Wait...62.04% Complete"
     ]
    },
    {
     "name": "stdout",
     "output_type": "stream",
     "text": [
      "\r"
     ]
    },
    {
     "name": "stdout",
     "output_type": "stream",
     "text": [
      "Loading weights. Please Wait...62.96% Complete\r"
     ]
    },
    {
     "name": "stdout",
     "output_type": "stream",
     "text": [
      "Loading weights. Please Wait...63.89% Complete\r"
     ]
    },
    {
     "name": "stdout",
     "output_type": "stream",
     "text": [
      "Loading weights. Please Wait...64.81% Complete"
     ]
    },
    {
     "name": "stdout",
     "output_type": "stream",
     "text": [
      "\r"
     ]
    },
    {
     "name": "stdout",
     "output_type": "stream",
     "text": [
      "Loading weights. Please Wait...65.74% Complete\r"
     ]
    },
    {
     "name": "stdout",
     "output_type": "stream",
     "text": [
      "Loading weights. Please Wait...66.67% Complete"
     ]
    },
    {
     "name": "stdout",
     "output_type": "stream",
     "text": [
      "\r"
     ]
    },
    {
     "name": "stdout",
     "output_type": "stream",
     "text": [
      "Loading weights. Please Wait...67.59% Complete\r"
     ]
    },
    {
     "name": "stdout",
     "output_type": "stream",
     "text": [
      "Loading weights. Please Wait...68.52% Complete\r"
     ]
    },
    {
     "name": "stdout",
     "output_type": "stream",
     "text": [
      "Loading weights. Please Wait...69.44% Complete\r"
     ]
    },
    {
     "name": "stdout",
     "output_type": "stream",
     "text": [
      "Loading weights. Please Wait...70.37% Complete"
     ]
    },
    {
     "name": "stdout",
     "output_type": "stream",
     "text": [
      "\r"
     ]
    },
    {
     "name": "stdout",
     "output_type": "stream",
     "text": [
      "Loading weights. Please Wait...71.30% Complete\r"
     ]
    },
    {
     "name": "stdout",
     "output_type": "stream",
     "text": [
      "Loading weights. Please Wait...72.22% Complete\r"
     ]
    },
    {
     "name": "stdout",
     "output_type": "stream",
     "text": [
      "Loading weights. Please Wait...73.15% Complete"
     ]
    },
    {
     "name": "stdout",
     "output_type": "stream",
     "text": [
      "\r"
     ]
    },
    {
     "name": "stdout",
     "output_type": "stream",
     "text": [
      "Loading weights. Please Wait...74.07% Complete\r"
     ]
    },
    {
     "name": "stdout",
     "output_type": "stream",
     "text": [
      "Loading weights. Please Wait...75.00% Complete"
     ]
    },
    {
     "name": "stdout",
     "output_type": "stream",
     "text": [
      "\r"
     ]
    },
    {
     "name": "stdout",
     "output_type": "stream",
     "text": [
      "Loading weights. Please Wait...75.93% Complete"
     ]
    },
    {
     "name": "stdout",
     "output_type": "stream",
     "text": [
      "\r"
     ]
    },
    {
     "name": "stdout",
     "output_type": "stream",
     "text": [
      "Loading weights. Please Wait...76.85% Complete"
     ]
    },
    {
     "name": "stdout",
     "output_type": "stream",
     "text": [
      "\r"
     ]
    },
    {
     "name": "stdout",
     "output_type": "stream",
     "text": [
      "Loading weights. Please Wait...77.78% Complete\r"
     ]
    },
    {
     "name": "stdout",
     "output_type": "stream",
     "text": [
      "Loading weights. Please Wait...78.70% Complete\r"
     ]
    },
    {
     "name": "stdout",
     "output_type": "stream",
     "text": [
      "Loading weights. Please Wait...79.63% Complete"
     ]
    },
    {
     "name": "stdout",
     "output_type": "stream",
     "text": [
      "\r"
     ]
    },
    {
     "name": "stdout",
     "output_type": "stream",
     "text": [
      "Loading weights. Please Wait...80.56% Complete\r"
     ]
    },
    {
     "name": "stdout",
     "output_type": "stream",
     "text": [
      "Loading weights. Please Wait...81.48% Complete\r"
     ]
    },
    {
     "name": "stdout",
     "output_type": "stream",
     "text": [
      "Loading weights. Please Wait...82.41% Complete\r"
     ]
    },
    {
     "name": "stdout",
     "output_type": "stream",
     "text": [
      "Loading weights. Please Wait...83.33% Complete\r"
     ]
    },
    {
     "name": "stdout",
     "output_type": "stream",
     "text": [
      "Loading weights. Please Wait...84.26% Complete\r"
     ]
    },
    {
     "name": "stdout",
     "output_type": "stream",
     "text": [
      "Loading weights. Please Wait...85.19% Complete\r"
     ]
    },
    {
     "name": "stdout",
     "output_type": "stream",
     "text": [
      "Loading weights. Please Wait...86.11% Complete\r"
     ]
    },
    {
     "name": "stdout",
     "output_type": "stream",
     "text": [
      "Loading weights. Please Wait...87.04% Complete\r"
     ]
    },
    {
     "name": "stdout",
     "output_type": "stream",
     "text": [
      "Loading weights. Please Wait...87.96% Complete\r"
     ]
    },
    {
     "name": "stdout",
     "output_type": "stream",
     "text": [
      "Loading weights. Please Wait...88.89% Complete\r"
     ]
    },
    {
     "name": "stdout",
     "output_type": "stream",
     "text": [
      "Loading weights. Please Wait...89.81% Complete\r"
     ]
    },
    {
     "name": "stdout",
     "output_type": "stream",
     "text": [
      "Loading weights. Please Wait...90.74% Complete\r"
     ]
    },
    {
     "name": "stdout",
     "output_type": "stream",
     "text": [
      "Loading weights. Please Wait...91.67% Complete\r"
     ]
    },
    {
     "name": "stdout",
     "output_type": "stream",
     "text": [
      "Loading weights. Please Wait...92.59% Complete\r"
     ]
    },
    {
     "name": "stdout",
     "output_type": "stream",
     "text": [
      "Loading weights. Please Wait...93.52% Complete\r"
     ]
    },
    {
     "name": "stdout",
     "output_type": "stream",
     "text": [
      "Loading weights. Please Wait...94.44% Complete\r"
     ]
    },
    {
     "name": "stdout",
     "output_type": "stream",
     "text": [
      "Loading weights. Please Wait...95.37% Complete\r"
     ]
    },
    {
     "name": "stdout",
     "output_type": "stream",
     "text": [
      "Loading weights. Please Wait...96.30% Complete"
     ]
    },
    {
     "name": "stdout",
     "output_type": "stream",
     "text": [
      "\r"
     ]
    },
    {
     "name": "stdout",
     "output_type": "stream",
     "text": [
      "Loading weights. Please Wait...97.22% Complete\r"
     ]
    },
    {
     "name": "stdout",
     "output_type": "stream",
     "text": [
      "Loading weights. Please Wait...98.15% Complete\r"
     ]
    },
    {
     "name": "stdout",
     "output_type": "stream",
     "text": [
      "Loading weights. Please Wait...99.07% Complete\r"
     ]
    },
    {
     "name": "stdout",
     "output_type": "stream",
     "text": [
      "Loading weights. Please Wait...100.00% Complete\r"
     ]
    }
   ],
   "source": [
    "# Set the location and name of the cfg file\n",
    "cfg_file = 'D:\\pychar_projects\\dnc-master\\CVND_exercise\\\\2_2_YOLO\\cfg\\yolov3.cfg'\n",
    "\n",
    "# Set the location and name of the pre-trained weights file\n",
    "weight_file = 'D:\\pychar_projects\\dnc-master\\CVND_exercise\\\\2_2_YOLO\\weights\\yolov3.weights'\n",
    "\n",
    "# Set the location and name of the COCO object classes file\n",
    "namesfile = 'D:\\pychar_projects\\dnc-master\\CVND_exercise\\\\2_2_YOLO\\data\\coco.names'\n",
    "\n",
    "# Load the network architecture\n",
    "m = Darknet(cfg_file)\n",
    "\n",
    "# Load the pre-trained weights\n",
    "m.load_weights(weight_file)\n",
    "\n",
    "# Load the COCO object classes\n",
    "class_names = load_class_names(namesfile)"
   ]
  },
  {
   "cell_type": "markdown",
   "metadata": {},
   "source": [
    "# Taking a Look at The Neural Network\n",
    "\n",
    "Now that the neural network has been setup, we can see what it looks like. We can print the network using the `.print_network()` function."
   ]
  },
  {
   "cell_type": "code",
   "execution_count": 4,
   "metadata": {
    "scrolled": false
   },
   "outputs": [
    {
     "name": "stdout",
     "output_type": "stream",
     "text": [
      "layer     filters    size              input                output\n    0 conv     32  3 x 3 / 1   416 x 416 x   3   ->   416 x 416 x  32\n    1 conv     64  3 x 3 / 2   416 x 416 x  32   ->   208 x 208 x  64\n    2 conv     32  1 x 1 / 1   208 x 208 x  64   ->   208 x 208 x  32\n    3 conv     64  3 x 3 / 1   208 x 208 x  32   ->   208 x 208 x  64\n    4 shortcut 1\n    5 conv    128  3 x 3 / 2   208 x 208 x  64   ->   104 x 104 x 128\n    6 conv     64  1 x 1 / 1   104 x 104 x 128   ->   104 x 104 x  64\n    7 conv    128  3 x 3 / 1   104 x 104 x  64   ->   104 x 104 x 128\n    8 shortcut 5\n    9 conv     64  1 x 1 / 1   104 x 104 x 128   ->   104 x 104 x  64\n   10 conv    128  3 x 3 / 1   104 x 104 x  64   ->   104 x 104 x 128\n   11 shortcut 8\n   12 conv    256  3 x 3 / 2   104 x 104 x 128   ->    52 x  52 x 256\n   13 conv    128  1 x 1 / 1    52 x  52 x 256   ->    52 x  52 x 128\n   14 conv    256  3 x 3 / 1    52 x  52 x 128   ->    52 x  52 x 256\n   15 shortcut 12\n   16 conv    128  1 x 1 / 1    52 x  52 x 256   ->    52 x  52 x 128\n   17 conv    256  3 x 3 / 1    52 x  52 x 128   ->    52 x  52 x 256\n   18 shortcut 15\n   19 conv    128  1 x 1 / 1    52 x  52 x 256   ->    52 x  52 x 128\n   20 conv    256  3 x 3 / 1    52 x  52 x 128   ->    52 x  52 x 256\n   21 shortcut 18\n   22 conv    128  1 x 1 / 1    52 x  52 x 256   ->    52 x  52 x 128\n   23 conv    256  3 x 3 / 1    52 x  52 x 128   ->    52 x  52 x 256\n   24 shortcut 21\n   25 conv    128  1 x 1 / 1    52 x  52 x 256   ->    52 x  52 x 128\n   26 conv    256  3 x 3 / 1    52 x  52 x 128   ->    52 x  52 x 256\n   27 shortcut 24\n   28 conv    128  1 x 1 / 1    52 x  52 x 256   ->    52 x  52 x 128\n   29 conv    256  3 x 3 / 1    52 x  52 x 128   ->    52 x  52 x 256\n   30 shortcut 27\n   31 conv    128  1 x 1 / 1    52 x  52 x 256   ->    52 x  52 x 128\n   32 conv    256  3 x 3 / 1    52 x  52 x 128   ->    52 x  52 x 256\n   33 shortcut 30\n   34 conv    128  1 x 1 / 1    52 x  52 x 256   ->    52 x  52 x 128\n   35 conv    256  3 x 3 / 1    52 x  52 x 128   ->    52 x  52 x 256\n   36 shortcut 33\n   37 conv    512  3 x 3 / 2    52 x  52 x 256   ->    26 x  26 x 512\n   38 conv    256  1 x 1 / 1    26 x  26 x 512   ->    26 x  26 x 256\n   39 conv    512  3 x 3 / 1    26 x  26 x 256   ->    26 x  26 x 512\n   40 shortcut 37\n   41 conv    256  1 x 1 / 1    26 x  26 x 512   ->    26 x  26 x 256\n   42 conv    512  3 x 3 / 1    26 x  26 x 256   ->    26 x  26 x 512\n   43 shortcut 40\n   44 conv    256  1 x 1 / 1    26 x  26 x 512   ->    26 x  26 x 256\n   45 conv    512  3 x 3 / 1    26 x  26 x 256   ->    26 x  26 x 512\n   46 shortcut 43\n   47 conv    256  1 x 1 / 1    26 x  26 x 512   ->    26 x  26 x 256\n   48 conv    512  3 x 3 / 1    26 x  26 x 256   ->    26 x  26 x 512\n   49 shortcut 46\n   50 conv    256  1 x 1 / 1    26 x  26 x 512   ->    26 x  26 x 256\n   51 conv    512  3 x 3 / 1    26 x  26 x 256   ->    26 x  26 x 512\n   52 shortcut 49\n   53 conv    256  1 x 1 / 1    26 x  26 x 512   ->    26 x  26 x 256\n   54 conv    512  3 x 3 / 1    26 x  26 x 256   ->    26 x  26 x 512\n   55 shortcut 52\n   56 conv    256  1 x 1 / 1    26 x  26 x 512   ->    26 x  26 x 256\n   57 conv    512  3 x 3 / 1    26 x  26 x 256   ->    26 x  26 x 512\n   58 shortcut 55\n   59 conv    256  1 x 1 / 1    26 x  26 x 512   ->    26 x  26 x 256\n   60 conv    512  3 x 3 / 1    26 x  26 x 256   ->    26 x  26 x 512\n   61 shortcut 58\n   62 conv   1024  3 x 3 / 2    26 x  26 x 512   ->    13 x  13 x1024\n   63 conv    512  1 x 1 / 1    13 x  13 x1024   ->    13 x  13 x 512\n   64 conv   1024  3 x 3 / 1    13 x  13 x 512   ->    13 x  13 x1024\n   65 shortcut 62\n   66 conv    512  1 x 1 / 1    13 x  13 x1024   ->    13 x  13 x 512\n   67 conv   1024  3 x 3 / 1    13 x  13 x 512   ->    13 x  13 x1024\n   68 shortcut 65\n   69 conv    512  1 x 1 / 1    13 x  13 x1024   ->    13 x  13 x 512\n   70 conv   1024  3 x 3 / 1    13 x  13 x 512   ->    13 x  13 x1024\n   71 shortcut 68\n   72 conv    512  1 x 1 / 1    13 x  13 x1024   ->    13 x  13 x 512\n   73 conv   1024  3 x 3 / 1    13 x  13 x 512   ->    13 x  13 x1024\n   74 shortcut 71\n   75 conv    512  1 x 1 / 1    13 x  13 x1024   ->    13 x  13 x 512\n   76 conv   1024  3 x 3 / 1    13 x  13 x 512   ->    13 x  13 x1024\n   77 conv    512  1 x 1 / 1    13 x  13 x1024   ->    13 x  13 x 512\n   78 conv   1024  3 x 3 / 1    13 x  13 x 512   ->    13 x  13 x1024\n   79 conv    512  1 x 1 / 1    13 x  13 x1024   ->    13 x  13 x 512\n   80 conv   1024  3 x 3 / 1    13 x  13 x 512   ->    13 x  13 x1024\n   81 conv    255  1 x 1 / 1    13 x  13 x1024   ->    13 x  13 x 255\n   82 detection\n   83 route  79\n   84 conv    256  1 x 1 / 1    13 x  13 x 512   ->    13 x  13 x 256\n   85 upsample           * 2    13 x  13 x 256   ->    26 x  26 x 256\n   86 route  85 61\n   87 conv    256  1 x 1 / 1    26 x  26 x 768   ->    26 x  26 x 256\n   88 conv    512  3 x 3 / 1    26 x  26 x 256   ->    26 x  26 x 512\n   89 conv    256  1 x 1 / 1    26 x  26 x 512   ->    26 x  26 x 256\n   90 conv    512  3 x 3 / 1    26 x  26 x 256   ->    26 x  26 x 512\n   91 conv    256  1 x 1 / 1    26 x  26 x 512   ->    26 x  26 x 256\n   92 conv    512  3 x 3 / 1    26 x  26 x 256   ->    26 x  26 x 512\n   93 conv    255  1 x 1 / 1    26 x  26 x 512   ->    26 x  26 x 255\n   94 detection\n   95 route  91\n   96 conv    128  1 x 1 / 1    26 x  26 x 256   ->    26 x  26 x 128\n   97 upsample           * 2    26 x  26 x 128   ->    52 x  52 x 128\n   98 route  97 36\n   99 conv    128  1 x 1 / 1    52 x  52 x 384   ->    52 x  52 x 128\n  100 conv    256  3 x 3 / 1    52 x  52 x 128   ->    52 x  52 x 256\n  101 conv    128  1 x 1 / 1    52 x  52 x 256   ->    52 x  52 x 128\n  102 conv    256  3 x 3 / 1    52 x  52 x 128   ->    52 x  52 x 256\n  103 conv    128  1 x 1 / 1    52 x  52 x 256   ->    52 x  52 x 128\n  104 conv    256  3 x 3 / 1    52 x  52 x 128   ->    52 x  52 x 256\n  105 conv    255  1 x 1 / 1    52 x  52 x 256   ->    52 x  52 x 255\n  106 detection\n"
     ]
    }
   ],
   "source": [
    "# Print the neural network used in YOLOv3\n",
    "m.print_network()"
   ]
  },
  {
   "cell_type": "markdown",
   "metadata": {},
   "source": [
    "As we can see, the neural network used by YOLOv3 consists mainly of convolutional layers, with some shortcut connections and upsample layers. For a full description of this network please refer to the <a href=\"https://pjreddie.com/media/files/papers/YOLOv3.pdf\">YOLOv3 Paper</a>.\n",
    "\n",
    "# Loading and Resizing Our Images\n",
    "\n",
    "In the code below, we load our images using OpenCV's `cv2.imread()` function. Since, this function loads images as BGR we will convert our images to RGB so we can display them with the correct colors.\n",
    "\n",
    "As we can see in the previous cell, the input size of the first layer of the network is 416 x 416 x 3. Since images have different sizes, we have to resize our images to be compatible with the input size of the first layer in the network. In the code below, we resize our images using OpenCV's `cv2.resize()` function. We then plot the original and resized images. "
   ]
  },
  {
   "cell_type": "code",
   "execution_count": 5,
   "metadata": {},
   "outputs": [],
   "source": [
    "# Set the default figure size\n",
    "plt.rcParams['figure.figsize'] = [24.0, 14.0]\n",
    "\n",
    "# Load the image\n",
    "img = cv2.imread('D:\\pychar_projects\\dnc-master\\CVND_exercise\\\\2_2_YOLO\\images\\surf.jpg')\n",
    "\n",
    "# Convert the image to RGB\n",
    "original_image = cv2.cvtColor(img, cv2.COLOR_BGR2RGB)\n",
    "\n",
    "# We resize the image to the input width and height of the first layer of the network.    \n",
    "resized_image = cv2.resize(original_image, (m.width, m.height))\n",
    "\n",
    "# Display the images\n",
    "plt.subplot(121)\n",
    "plt.title('Original Image')\n",
    "plt.imshow(original_image)\n",
    "plt.subplot(122)\n",
    "plt.title('Resized Image')\n",
    "plt.imshow(resized_image)\n",
    "plt.show()"
   ]
  },
  {
   "cell_type": "markdown",
   "metadata": {},
   "source": [
    "# Setting the Non-Maximal Suppression Threshold\n",
    "\n",
    "As you learned in the previous lessons, YOLO uses **Non-Maximal Suppression (NMS)** to only keep the best bounding box. The first step in NMS is to remove all the predicted bounding boxes that have a detection probability that is less than a given NMS threshold.  In the code below, we set this NMS threshold to `0.6`. This means that all predicted bounding boxes that have a detection probability less than 0.6 will be removed. "
   ]
  },
  {
   "cell_type": "code",
   "execution_count": 5,
   "metadata": {},
   "outputs": [],
   "source": [
    "# Set the NMS threshold\n",
    "nms_thresh = 0.6"
   ]
  },
  {
   "cell_type": "markdown",
   "metadata": {},
   "source": [
    "# Setting the Intersection Over Union Threshold\n",
    "\n",
    "After removing all the predicted bounding boxes that have a low detection probability, the second step in NMS, is to select the bounding boxes with the highest detection probability and eliminate all the bounding boxes whose **Intersection Over Union (IOU)** value is higher than a given IOU threshold. In the code below, we set this IOU threshold to `0.4`. This means that all predicted bounding boxes that have an IOU value greater than 0.4 with respect to the best bounding boxes will be removed.\n",
    "\n",
    "In the `utils` module you will find the `nms` function, that performs the second step of Non-Maximal Suppression, and the `boxes_iou` function that calculates the Intersection over Union of two given bounding boxes. You are encouraged to look at these functions to see how they work. "
   ]
  },
  {
   "cell_type": "code",
   "execution_count": 6,
   "metadata": {},
   "outputs": [],
   "source": [
    "# Set the IOU threshold\n",
    "iou_thresh = 0.4"
   ]
  },
  {
   "cell_type": "markdown",
   "metadata": {},
   "source": [
    "# Object Detection\n",
    "\n",
    "Once the image has been loaded and resized, and you have chosen your parameters for `nms_thresh` and `iou_thresh`, we can use the YOLO algorithm to detect objects in the image. We detect the objects using the `detect_objects(m, resized_image, iou_thresh, nms_thresh)`function from the `utils` module. This function takes in the model `m` returned by *Darknet*, the resized image, and the NMS and IOU thresholds, and returns the bounding boxes of the objects found.\n",
    "\n",
    "Each bounding box contains 7 parameters: the coordinates *(x, y)* of the center of the bounding box, the width *w* and height *h* of the bounding box, the confidence detection level, the object class probability, and the object class id. The `detect_objects()` function also prints out the time it took for the YOLO algorithm to detect the objects in the image and the number of objects detected. Since we are running the algorithm on a CPU it takes about 2 seconds to detect the objects in an image, however, if we were to use a GPU it would run much faster.\n",
    "\n",
    "Once we have the bounding boxes of the objects found by YOLO, we can print the class of the objects found and their corresponding object class probability. To do this we use the `print_objects()` function in the `utils` module.\n",
    "\n",
    "Finally, we use the `plot_boxes()` function to plot the bounding boxes and corresponding object class labels found by YOLO in our image. If you set the `plot_labels` flag to `False` you will display the bounding boxes with no labels. This makes it easier to view the bounding boxes if your `nms_thresh` is too low. The `plot_boxes()`function uses the same color to plot the bounding boxes of the same object class. However, if you want all bounding boxes to be the same color, you can use the `color` keyword to set the desired color. For example, if you want all the bounding boxes to be red you can use:\n",
    "\n",
    "`plot_boxes(original_image, boxes, class_names, plot_labels = True, color = (1,0,0))`\n",
    "\n",
    "You are encouraged to change the `iou_thresh` and `nms_thresh` parameters to see how they affect the YOLO detection algorithm. The default values of `iou_thresh = 0.4` and `nms_thresh = 0.6` work well to detect objects in different kinds of images. In the cell below, we have repeated some of the code used before in order to prevent you from scrolling up down when you want to change the `iou_thresh` and `nms_thresh`parameters or the image. Have Fun!"
   ]
  },
  {
   "cell_type": "code",
   "execution_count": 7,
   "metadata": {},
   "outputs": [
    {
     "name": "stdout",
     "output_type": "stream",
     "text": [
      "\n\nIt took 4.145 seconds to detect the objects in the image.\n\nNumber of Objects Detected: 2 \n\nObjects Found and Confidence Level:\n\n1. person: 1.000000\n2. surfboard: 0.994814\n"
     ]
    }
   ],
   "source": [
    "# Set the default figure size\n",
    "plt.rcParams['figure.figsize'] = [24.0, 14.0]\n",
    "\n",
    "# Load the image\n",
    "img = cv2.imread('D:\\pychar_projects\\dnc-master\\CVND_exercise\\\\2_2_YOLO\\images\\surf.jpg')\n",
    "\n",
    "# Convert the image to RGB\n",
    "original_image = cv2.cvtColor(img, cv2.COLOR_BGR2RGB)\n",
    "\n",
    "# We resize the image to the input width and height of the first layer of the network.    \n",
    "resized_image = cv2.resize(original_image, (m.width, m.height))\n",
    "\n",
    "# Set the IOU threshold. Default value is 0.4\n",
    "iou_thresh = 0.4\n",
    "\n",
    "# Set the NMS threshold. Default value is 0.6\n",
    "nms_thresh = 0.6\n",
    "\n",
    "# Detect objects in the image\n",
    "boxes = detect_objects(m, resized_image, iou_thresh, nms_thresh)\n",
    "\n",
    "# Print the objects found and the confidence level\n",
    "print_objects(boxes, class_names)\n",
    "\n",
    "#Plot the image with bounding boxes and corresponding object class labels\n",
    "plot_boxes(original_image, boxes, class_names, plot_labels = True)"
   ]
  },
  {
   "cell_type": "code",
   "execution_count": 10,
   "metadata": {},
   "outputs": [],
   "source": [
    "def displayYOLO(images_jpg):\n",
    "    # Set the default figure size\n",
    "    plt.rcParams['figure.figsize'] = [24.0, 14.0]\n",
    "\n",
    "    # Load the image\n",
    "    img = cv2.imread(images_jpg)\n",
    "\n",
    "    # Convert the image to RGB\n",
    "    original_image = cv2.cvtColor(img, cv2.COLOR_BGR2RGB)\n",
    "\n",
    "    # We resize the image to the input width and height of the first layer of the network.    \n",
    "    resized_image = cv2.resize(original_image, (m.width, m.height))\n",
    "\n",
    "    # Set the IOU threshold. Default value is 0.4\n",
    "    iou_thresh = 0.4\n",
    "\n",
    "    # Set the NMS threshold. Default value is 0.6\n",
    "    nms_thresh = 0.6\n",
    "\n",
    "    # Detect objects in the image\n",
    "    boxes = detect_objects(m, resized_image, iou_thresh, nms_thresh)\n",
    "\n",
    "    # Print the objects found and the confidence level\n",
    "    print_objects(boxes, class_names)\n",
    "\n",
    "    #Plot the image with bounding boxes and corresponding object class labels\n",
    "    plot_boxes(original_image, boxes, class_names, plot_labels = True)"
   ]
  },
  {
   "cell_type": "code",
   "execution_count": 11,
   "metadata": {},
   "outputs": [
    {
     "name": "stdout",
     "output_type": "stream",
     "text": [
      "\n\nIt took 4.206 seconds to detect the objects in the image.\n\nNumber of Objects Detected: 1 \n\nObjects Found and Confidence Level:\n\n1. person: 0.999722\n"
     ]
    }
   ],
   "source": [
    "displayYOLO(\"D://image/bb.jpg\")"
   ]
  },
  {
   "cell_type": "code",
   "execution_count": 12,
   "metadata": {},
   "outputs": [
    {
     "name": "stdout",
     "output_type": "stream",
     "text": [
      "\n\nIt took 4.564 seconds to detect the objects in the image.\n\nNumber of Objects Detected: 1 \n\nObjects Found and Confidence Level:\n\n1. person: 1.000000\n"
     ]
    },
    {
     "ename": "TypeError",
     "evalue": "plot_boxes() got an unexpected keyword argument 'winname'",
     "traceback": [
      "\u001b[0;31m---------------------------------------------------------------------------\u001b[0m",
      "\u001b[0;31mTypeError\u001b[0m                                 Traceback (most recent call last)",
      "\u001b[0;32m<ipython-input-12-80edc36f229c>\u001b[0m in \u001b[0;36m<module>\u001b[0;34m()\u001b[0m\n\u001b[1;32m     16\u001b[0m     \u001b[0mboxes\u001b[0m \u001b[0;34m=\u001b[0m \u001b[0mdetect_objects\u001b[0m\u001b[0;34m(\u001b[0m\u001b[0mm\u001b[0m\u001b[0;34m,\u001b[0m \u001b[0mframe\u001b[0m\u001b[0;34m,\u001b[0m \u001b[0miou_thresh\u001b[0m\u001b[0;34m,\u001b[0m \u001b[0mnms_thresh\u001b[0m\u001b[0;34m)\u001b[0m\u001b[0;34m\u001b[0m\u001b[0m\n\u001b[1;32m     17\u001b[0m     \u001b[0mprint_objects\u001b[0m\u001b[0;34m(\u001b[0m\u001b[0mboxes\u001b[0m\u001b[0;34m,\u001b[0m \u001b[0mclass_names\u001b[0m\u001b[0;34m)\u001b[0m\u001b[0;34m\u001b[0m\u001b[0m\n\u001b[0;32m---> 18\u001b[0;31m     \u001b[0mplot_boxes\u001b[0m\u001b[0;34m(\u001b[0m\u001b[0mframe\u001b[0m\u001b[0;34m,\u001b[0m \u001b[0mboxes\u001b[0m\u001b[0;34m,\u001b[0m \u001b[0mclass_names\u001b[0m\u001b[0;34m,\u001b[0m \u001b[0mplot_labels\u001b[0m \u001b[0;34m=\u001b[0m \u001b[0;32mTrue\u001b[0m\u001b[0;34m,\u001b[0m\u001b[0mwinname\u001b[0m\u001b[0;34m=\u001b[0m\u001b[0;34m\"MYwindow\"\u001b[0m\u001b[0;34m)\u001b[0m\u001b[0;34m\u001b[0m\u001b[0m\n\u001b[0m\u001b[1;32m     19\u001b[0m     \u001b[0msuccess\u001b[0m\u001b[0;34m,\u001b[0m\u001b[0mframe\u001b[0m\u001b[0;34m=\u001b[0m\u001b[0mvideo_capture\u001b[0m\u001b[0;34m.\u001b[0m\u001b[0mread\u001b[0m\u001b[0;34m(\u001b[0m\u001b[0;34m)\u001b[0m\u001b[0;34m\u001b[0m\u001b[0m\n\u001b[1;32m     20\u001b[0m \u001b[0mcv2\u001b[0m\u001b[0;34m.\u001b[0m\u001b[0mdestroyAllWindows\u001b[0m\u001b[0;34m(\u001b[0m\u001b[0;34m)\u001b[0m\u001b[0;34m\u001b[0m\u001b[0m\n",
      "\u001b[0;31mTypeError\u001b[0m: plot_boxes() got an unexpected keyword argument 'winname'"
     ],
     "output_type": "error"
    }
   ],
   "source": [
    "clicked=False\n",
    "def onMouse(event,x,y,flags,param):\n",
    "    global clicked\n",
    "    if event==cv2.EVENT_FLAG_LBUTTON:\n",
    "        clicked=True\n",
    "video_capture = cv2.VideoCapture(0)\n",
    "cv2.namedWindow(\"MYwindow\")\n",
    "cv2.setMouseCallback(\"MYwindow\",onMouse)\n",
    "\n",
    "success,frame=video_capture.read()\n",
    "while success and cv2.waitKey(1)==-1 and not clicked :\n",
    "    frame = cv2.cvtColor(frame, cv2.COLOR_BGR2RGB)\n",
    "    frame = cv2.resize(frame, (m.width, m.height))\n",
    "    iou_thresh = 0.4\n",
    "    nms_thresh = 0.6\n",
    "    boxes = detect_objects(m, frame, iou_thresh, nms_thresh)\n",
    "    print_objects(boxes, class_names)\n",
    "    plot_boxes(frame, boxes, class_names, plot_labels = True,winname=\"MYwindow\")\n",
    "    success,frame=video_capture.read()\n",
    "cv2.destroyAllWindows()\n",
    "video_capture.release()\n",
    "    \n"
   ]
  },
  {
   "cell_type": "code",
   "execution_count": 13,
   "metadata": {},
   "outputs": [],
   "source": []
  },
  {
   "cell_type": "code",
   "execution_count": null,
   "metadata": {},
   "outputs": [],
   "source": []
  }
 ],
 "metadata": {
  "kernelspec": {
   "display_name": "Python 3",
   "language": "python",
   "name": "python3"
  },
  "language_info": {
   "codemirror_mode": {
    "name": "ipython",
    "version": 3
   },
   "file_extension": ".py",
   "mimetype": "text/x-python",
   "name": "python",
   "nbconvert_exporter": "python",
   "pygments_lexer": "ipython3",
   "version": "3.6.3"
  }
 },
 "nbformat": 4,
 "nbformat_minor": 2
}
